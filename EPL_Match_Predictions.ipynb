{
  "nbformat": 4,
  "nbformat_minor": 0,
  "metadata": {
    "colab": {
      "name": "EPL Match Predictions.ipynb",
      "provenance": [],
      "collapsed_sections": [],
      "authorship_tag": "ABX9TyMJreaE6pc0QBxG3E2530Eg",
      "include_colab_link": true
    },
    "kernelspec": {
      "name": "python3",
      "display_name": "Python 3"
    }
  },
  "cells": [
    {
      "cell_type": "markdown",
      "metadata": {
        "id": "view-in-github",
        "colab_type": "text"
      },
      "source": [
        "<a href=\"https://colab.research.google.com/github/icarovazquez/Lanista/blob/master/EPL_Match_Predictions.ipynb\" target=\"_parent\"><img src=\"https://colab.research.google.com/assets/colab-badge.svg\" alt=\"Open In Colab\"/></a>"
      ]
    },
    {
      "cell_type": "markdown",
      "metadata": {
        "id": "-RYQ8FWFxJ8m",
        "colab_type": "text"
      },
      "source": [
        "This notebook takes the [English Premiership results dataset on Kaggle](https://www.kaggle.com/irkaal/english-premier-league-results) and creates a neural network that tries to predict English premiership match results\n"
      ]
    },
    {
      "cell_type": "markdown",
      "metadata": {
        "id": "M69XT3kpxnWr",
        "colab_type": "text"
      },
      "source": [
        "First we import pandas and mount google drive so we can choose which file we are going to use"
      ]
    },
    {
      "cell_type": "code",
      "metadata": {
        "id": "dO0Oc5LyxmIe",
        "colab_type": "code",
        "colab": {
          "base_uri": "https://localhost:8080/",
          "height": 34
        },
        "outputId": "d0c9ad3d-681e-4fa3-86b1-895256f2ef96"
      },
      "source": [
        "import pandas as pd\n",
        "import tensorflow as tf\n",
        "import numpy as np\n",
        "import matplotlib.pyplot as plt\n",
        "import os\n",
        "import codecs, json\n",
        "import tempfile\n",
        "import requests\n",
        "import base64\n",
        "\n",
        "\n",
        "from google.colab import drive\n",
        "drive.mount(\"/content/drive\")\n"
      ],
      "execution_count": 1,
      "outputs": [
        {
          "output_type": "stream",
          "text": [
            "Drive already mounted at /content/drive; to attempt to forcibly remount, call drive.mount(\"/content/drive\", force_remount=True).\n"
          ],
          "name": "stdout"
        }
      ]
    },
    {
      "cell_type": "markdown",
      "metadata": {
        "id": "htLgvcbwIG4M",
        "colab_type": "text"
      },
      "source": [
        "just to be sure the drive is mounted we can do an ls command to see the drive contents"
      ]
    },
    {
      "cell_type": "code",
      "metadata": {
        "id": "OJ7yZLt4Iafj",
        "colab_type": "code",
        "colab": {
          "base_uri": "https://localhost:8080/",
          "height": 34
        },
        "outputId": "2165603f-b27f-4d3a-d0bd-0f06081e0f4d"
      },
      "source": [
        "!ls"
      ],
      "execution_count": 2,
      "outputs": [
        {
          "output_type": "stream",
          "text": [
            "drive  sample_data  server.log\n"
          ],
          "name": "stdout"
        }
      ]
    },
    {
      "cell_type": "markdown",
      "metadata": {
        "id": "koNugN08IFVv",
        "colab_type": "text"
      },
      "source": [
        "Our file is under /content/drive/My Drive/file_name. In this case we are going to use a [Kaggle public dataset](https://www.kaggle.com/irkaal/english-premier-league-results) (Thanks Alvin!) that has all the English Premiership matches from the 2000-2001 season to the 2019-2020 season. \n",
        "\n",
        "We are going to load this file into a panda dataframe and we will take a look at the first few rows of the file to see the content\n",
        "\n"
      ]
    },
    {
      "cell_type": "code",
      "metadata": {
        "id": "E02GCbn3JAEe",
        "colab_type": "code",
        "colab": {
          "base_uri": "https://localhost:8080/",
          "height": 731
        },
        "outputId": "65e79b91-ab1c-4824-9cfd-d91b202467ad"
      },
      "source": [
        "file_path = \"/content/drive/My Drive/EPLresults.csv\"\n",
        "my_df = pd.read_csv(file_path)\n",
        "\n",
        "print(my_df.shape)\n",
        "print(my_df.info())\n",
        "\n",
        "my_df.head()\n",
        "\n"
      ],
      "execution_count": 3,
      "outputs": [
        {
          "output_type": "stream",
          "text": [
            "(7386, 22)\n",
            "<class 'pandas.core.frame.DataFrame'>\n",
            "RangeIndex: 7386 entries, 0 to 7385\n",
            "Data columns (total 22 columns):\n",
            " #   Column    Non-Null Count  Dtype \n",
            "---  ------    --------------  ----- \n",
            " 0   Date      7386 non-null   object\n",
            " 1   HomeTeam  7386 non-null   object\n",
            " 2   AwayTeam  7386 non-null   object\n",
            " 3   FTHG      7386 non-null   int64 \n",
            " 4   FTAG      7386 non-null   int64 \n",
            " 5   FTR       7386 non-null   object\n",
            " 6   HTHG      7386 non-null   int64 \n",
            " 7   HTAG      7386 non-null   int64 \n",
            " 8   HTR       7386 non-null   object\n",
            " 9   Referee   7386 non-null   object\n",
            " 10  HS        7386 non-null   int64 \n",
            " 11  AS        7386 non-null   int64 \n",
            " 12  HST       7386 non-null   int64 \n",
            " 13  AST       7386 non-null   int64 \n",
            " 14  HC        7386 non-null   int64 \n",
            " 15  AC        7386 non-null   int64 \n",
            " 16  HF        7386 non-null   int64 \n",
            " 17  AF        7386 non-null   int64 \n",
            " 18  HY        7386 non-null   int64 \n",
            " 19  AY        7386 non-null   int64 \n",
            " 20  HR        7386 non-null   int64 \n",
            " 21  AR        7386 non-null   int64 \n",
            "dtypes: int64(16), object(6)\n",
            "memory usage: 1.2+ MB\n",
            "None\n"
          ],
          "name": "stdout"
        },
        {
          "output_type": "execute_result",
          "data": {
            "text/html": [
              "<div>\n",
              "<style scoped>\n",
              "    .dataframe tbody tr th:only-of-type {\n",
              "        vertical-align: middle;\n",
              "    }\n",
              "\n",
              "    .dataframe tbody tr th {\n",
              "        vertical-align: top;\n",
              "    }\n",
              "\n",
              "    .dataframe thead th {\n",
              "        text-align: right;\n",
              "    }\n",
              "</style>\n",
              "<table border=\"1\" class=\"dataframe\">\n",
              "  <thead>\n",
              "    <tr style=\"text-align: right;\">\n",
              "      <th></th>\n",
              "      <th>Date</th>\n",
              "      <th>HomeTeam</th>\n",
              "      <th>AwayTeam</th>\n",
              "      <th>FTHG</th>\n",
              "      <th>FTAG</th>\n",
              "      <th>FTR</th>\n",
              "      <th>HTHG</th>\n",
              "      <th>HTAG</th>\n",
              "      <th>HTR</th>\n",
              "      <th>Referee</th>\n",
              "      <th>HS</th>\n",
              "      <th>AS</th>\n",
              "      <th>HST</th>\n",
              "      <th>AST</th>\n",
              "      <th>HC</th>\n",
              "      <th>AC</th>\n",
              "      <th>HF</th>\n",
              "      <th>AF</th>\n",
              "      <th>HY</th>\n",
              "      <th>AY</th>\n",
              "      <th>HR</th>\n",
              "      <th>AR</th>\n",
              "    </tr>\n",
              "  </thead>\n",
              "  <tbody>\n",
              "    <tr>\n",
              "      <th>0</th>\n",
              "      <td>19/08/00</td>\n",
              "      <td>Charlton</td>\n",
              "      <td>Man City</td>\n",
              "      <td>4</td>\n",
              "      <td>0</td>\n",
              "      <td>H</td>\n",
              "      <td>2</td>\n",
              "      <td>0</td>\n",
              "      <td>H</td>\n",
              "      <td>Rob Harris</td>\n",
              "      <td>17</td>\n",
              "      <td>8</td>\n",
              "      <td>14</td>\n",
              "      <td>4</td>\n",
              "      <td>6</td>\n",
              "      <td>6</td>\n",
              "      <td>13</td>\n",
              "      <td>12</td>\n",
              "      <td>1</td>\n",
              "      <td>2</td>\n",
              "      <td>0</td>\n",
              "      <td>0</td>\n",
              "    </tr>\n",
              "    <tr>\n",
              "      <th>1</th>\n",
              "      <td>19/08/00</td>\n",
              "      <td>Chelsea</td>\n",
              "      <td>West Ham</td>\n",
              "      <td>4</td>\n",
              "      <td>2</td>\n",
              "      <td>H</td>\n",
              "      <td>1</td>\n",
              "      <td>0</td>\n",
              "      <td>H</td>\n",
              "      <td>Graham Barber</td>\n",
              "      <td>17</td>\n",
              "      <td>12</td>\n",
              "      <td>10</td>\n",
              "      <td>5</td>\n",
              "      <td>7</td>\n",
              "      <td>7</td>\n",
              "      <td>19</td>\n",
              "      <td>14</td>\n",
              "      <td>1</td>\n",
              "      <td>2</td>\n",
              "      <td>0</td>\n",
              "      <td>0</td>\n",
              "    </tr>\n",
              "    <tr>\n",
              "      <th>2</th>\n",
              "      <td>19/08/00</td>\n",
              "      <td>Coventry</td>\n",
              "      <td>Middlesbrough</td>\n",
              "      <td>1</td>\n",
              "      <td>3</td>\n",
              "      <td>A</td>\n",
              "      <td>1</td>\n",
              "      <td>1</td>\n",
              "      <td>D</td>\n",
              "      <td>Barry Knight</td>\n",
              "      <td>6</td>\n",
              "      <td>16</td>\n",
              "      <td>3</td>\n",
              "      <td>9</td>\n",
              "      <td>8</td>\n",
              "      <td>4</td>\n",
              "      <td>15</td>\n",
              "      <td>21</td>\n",
              "      <td>5</td>\n",
              "      <td>3</td>\n",
              "      <td>1</td>\n",
              "      <td>0</td>\n",
              "    </tr>\n",
              "    <tr>\n",
              "      <th>3</th>\n",
              "      <td>19/08/00</td>\n",
              "      <td>Derby</td>\n",
              "      <td>Southampton</td>\n",
              "      <td>2</td>\n",
              "      <td>2</td>\n",
              "      <td>D</td>\n",
              "      <td>1</td>\n",
              "      <td>2</td>\n",
              "      <td>A</td>\n",
              "      <td>Andy D'Urso</td>\n",
              "      <td>6</td>\n",
              "      <td>13</td>\n",
              "      <td>4</td>\n",
              "      <td>6</td>\n",
              "      <td>5</td>\n",
              "      <td>8</td>\n",
              "      <td>11</td>\n",
              "      <td>13</td>\n",
              "      <td>1</td>\n",
              "      <td>1</td>\n",
              "      <td>0</td>\n",
              "      <td>0</td>\n",
              "    </tr>\n",
              "    <tr>\n",
              "      <th>4</th>\n",
              "      <td>19/08/00</td>\n",
              "      <td>Leeds</td>\n",
              "      <td>Everton</td>\n",
              "      <td>2</td>\n",
              "      <td>0</td>\n",
              "      <td>H</td>\n",
              "      <td>2</td>\n",
              "      <td>0</td>\n",
              "      <td>H</td>\n",
              "      <td>Dermot Gallagher</td>\n",
              "      <td>17</td>\n",
              "      <td>12</td>\n",
              "      <td>8</td>\n",
              "      <td>6</td>\n",
              "      <td>6</td>\n",
              "      <td>4</td>\n",
              "      <td>21</td>\n",
              "      <td>20</td>\n",
              "      <td>1</td>\n",
              "      <td>3</td>\n",
              "      <td>0</td>\n",
              "      <td>0</td>\n",
              "    </tr>\n",
              "  </tbody>\n",
              "</table>\n",
              "</div>"
            ],
            "text/plain": [
              "       Date  HomeTeam       AwayTeam  FTHG  FTAG FTR  ...  HF  AF HY AY  HR  AR\n",
              "0  19/08/00  Charlton       Man City     4     0   H  ...  13  12  1  2   0   0\n",
              "1  19/08/00   Chelsea       West Ham     4     2   H  ...  19  14  1  2   0   0\n",
              "2  19/08/00  Coventry  Middlesbrough     1     3   A  ...  15  21  5  3   1   0\n",
              "3  19/08/00     Derby    Southampton     2     2   D  ...  11  13  1  1   0   0\n",
              "4  19/08/00     Leeds        Everton     2     0   H  ...  21  20  1  3   0   0\n",
              "\n",
              "[5 rows x 22 columns]"
            ]
          },
          "metadata": {
            "tags": []
          },
          "execution_count": 3
        }
      ]
    },
    {
      "cell_type": "markdown",
      "metadata": {
        "id": "RWWJdAcD-hsi",
        "colab_type": "text"
      },
      "source": [
        "Now let's plot the data to see how the features are correlated"
      ]
    },
    {
      "cell_type": "code",
      "metadata": {
        "id": "0fpbnjaI-QPG",
        "colab_type": "code",
        "colab": {
          "base_uri": "https://localhost:8080/",
          "height": 294
        },
        "outputId": "11dfd002-2c84-4008-8bf7-741ec8c229ef"
      },
      "source": [
        "plt.matshow(my_df.corr())\n",
        "plt.xticks( np.arange(15), my_df.columns, rotation=90)\n",
        "plt.yticks( np.arange(15), my_df.columns, rotation=0)\n",
        "plt.colorbar()\n",
        "plt.show()"
      ],
      "execution_count": 4,
      "outputs": [
        {
          "output_type": "display_data",
          "data": {
            "image/png": "[encoded data removed]",
            "text/plain": [
              "<Figure size 288x288 with 2 Axes>"
            ]
          },
          "metadata": {
            "tags": [],
            "needs_background": "light"
          }
        }
      ]
    },
    {
      "cell_type": "markdown",
      "metadata": {
        "id": "yjb_4fPJR0ot",
        "colab_type": "text"
      },
      "source": [
        "Now that the file is in dataframe we assign some columns to x and the label to y. In our case the label is the full time result (\"FTR\"). Let's make sure we can print a label"
      ]
    },
    {
      "cell_type": "code",
      "metadata": {
        "id": "xmF9h7ZvmXSw",
        "colab_type": "code",
        "colab": {
          "base_uri": "https://localhost:8080/",
          "height": 34
        },
        "outputId": "42b1b653-6d6d-4165-db26-f38299ff7569"
      },
      "source": [
        "print(\"For row 149 the teams playing are \" + str(my_df[\"HomeTeam\"][149]) + \" and \" + str(my_df[\"AwayTeam\"][149]) + \" and the label is \"  + str(my_df[\"FTR\"][149]) + \" and the day is \" + str(my_df[\"Date\"][149]))"
      ],
      "execution_count": 5,
      "outputs": [
        {
          "output_type": "stream",
          "text": [
            "For row 149 the teams playing are Arsenal and Southampton and the label is H and the day is 02/12/00\n"
          ],
          "name": "stdout"
        }
      ]
    },
    {
      "cell_type": "markdown",
      "metadata": {
        "id": "1PQF-N7bodPb",
        "colab_type": "text"
      },
      "source": [
        "\n",
        "Before assigning the features to x an Y we need to convert strings and text to something else since you cannot input strings to a neural network \n",
        "\n",
        "What features to use? Well, a theory is we need the teams that are playing and their statistics throughout the match: assists, corners and so on. Date? For now we are going to use just the day ofthe week so we will start with the following features in x:\n",
        "\n",
        "*   Day of the week when the match was played (i.e Saturday)  \n",
        "*   HomeTeam\n",
        "*   AwayTeam\n",
        "*   HTHG (Half Time Home Goals)\n",
        "*   HTAG (Half Time Away Goals)\n",
        "*   HTR  (Half Time Result)\n",
        "*   HS (Home Team Shots)\n",
        "*   AS (Away Team Shots)\n",
        "*  HC (Home Team Corners)\n",
        "*  AC (Away Team Corners)\n",
        "*  HF (Home Team Fouls)\n",
        "*  AF (Away Team Fouls)\n",
        "*  HY (Homw Team Yellow Cards)\n",
        "*  AY (Away Team Yellow Cards)\n",
        "*   HR (Home Team Red Cards)\n",
        "*   AR (Away Team Red Cards)"
      ]
    },
    {
      "cell_type": "markdown",
      "metadata": {
        "id": "URf5PYiMtuq6",
        "colab_type": "text"
      },
      "source": [
        "Now we need to convert the object columns to numbers. First we create a new dataframe with the object columns. \n",
        "\n",
        "We also drop the referee column since we are not going to use it and then we print a few rows"
      ]
    },
    {
      "cell_type": "code",
      "metadata": {
        "id": "VmbcAK-CthoC",
        "colab_type": "code",
        "colab": {
          "base_uri": "https://localhost:8080/",
          "height": 204
        },
        "outputId": "3ff4275b-7663-42f7-fba6-97c6b2adb5a0"
      },
      "source": [
        "epl_df_objects = my_df.copy()\n",
        "epl_df_objects.drop('Referee', axis=1, inplace=True)\n",
        "\n",
        "\n",
        "epl_df_objects.head()\n",
        "\n"
      ],
      "execution_count": 6,
      "outputs": [
        {
          "output_type": "execute_result",
          "data": {
            "text/html": [
              "<div>\n",
              "<style scoped>\n",
              "    .dataframe tbody tr th:only-of-type {\n",
              "        vertical-align: middle;\n",
              "    }\n",
              "\n",
              "    .dataframe tbody tr th {\n",
              "        vertical-align: top;\n",
              "    }\n",
              "\n",
              "    .dataframe thead th {\n",
              "        text-align: right;\n",
              "    }\n",
              "</style>\n",
              "<table border=\"1\" class=\"dataframe\">\n",
              "  <thead>\n",
              "    <tr style=\"text-align: right;\">\n",
              "      <th></th>\n",
              "      <th>Date</th>\n",
              "      <th>HomeTeam</th>\n",
              "      <th>AwayTeam</th>\n",
              "      <th>FTHG</th>\n",
              "      <th>FTAG</th>\n",
              "      <th>FTR</th>\n",
              "      <th>HTHG</th>\n",
              "      <th>HTAG</th>\n",
              "      <th>HTR</th>\n",
              "      <th>HS</th>\n",
              "      <th>AS</th>\n",
              "      <th>HST</th>\n",
              "      <th>AST</th>\n",
              "      <th>HC</th>\n",
              "      <th>AC</th>\n",
              "      <th>HF</th>\n",
              "      <th>AF</th>\n",
              "      <th>HY</th>\n",
              "      <th>AY</th>\n",
              "      <th>HR</th>\n",
              "      <th>AR</th>\n",
              "    </tr>\n",
              "  </thead>\n",
              "  <tbody>\n",
              "    <tr>\n",
              "      <th>0</th>\n",
              "      <td>19/08/00</td>\n",
              "      <td>Charlton</td>\n",
              "      <td>Man City</td>\n",
              "      <td>4</td>\n",
              "      <td>0</td>\n",
              "      <td>H</td>\n",
              "      <td>2</td>\n",
              "      <td>0</td>\n",
              "      <td>H</td>\n",
              "      <td>17</td>\n",
              "      <td>8</td>\n",
              "      <td>14</td>\n",
              "      <td>4</td>\n",
              "      <td>6</td>\n",
              "      <td>6</td>\n",
              "      <td>13</td>\n",
              "      <td>12</td>\n",
              "      <td>1</td>\n",
              "      <td>2</td>\n",
              "      <td>0</td>\n",
              "      <td>0</td>\n",
              "    </tr>\n",
              "    <tr>\n",
              "      <th>1</th>\n",
              "      <td>19/08/00</td>\n",
              "      <td>Chelsea</td>\n",
              "      <td>West Ham</td>\n",
              "      <td>4</td>\n",
              "      <td>2</td>\n",
              "      <td>H</td>\n",
              "      <td>1</td>\n",
              "      <td>0</td>\n",
              "      <td>H</td>\n",
              "      <td>17</td>\n",
              "      <td>12</td>\n",
              "      <td>10</td>\n",
              "      <td>5</td>\n",
              "      <td>7</td>\n",
              "      <td>7</td>\n",
              "      <td>19</td>\n",
              "      <td>14</td>\n",
              "      <td>1</td>\n",
              "      <td>2</td>\n",
              "      <td>0</td>\n",
              "      <td>0</td>\n",
              "    </tr>\n",
              "    <tr>\n",
              "      <th>2</th>\n",
              "      <td>19/08/00</td>\n",
              "      <td>Coventry</td>\n",
              "      <td>Middlesbrough</td>\n",
              "      <td>1</td>\n",
              "      <td>3</td>\n",
              "      <td>A</td>\n",
              "      <td>1</td>\n",
              "      <td>1</td>\n",
              "      <td>D</td>\n",
              "      <td>6</td>\n",
              "      <td>16</td>\n",
              "      <td>3</td>\n",
              "      <td>9</td>\n",
              "      <td>8</td>\n",
              "      <td>4</td>\n",
              "      <td>15</td>\n",
              "      <td>21</td>\n",
              "      <td>5</td>\n",
              "      <td>3</td>\n",
              "      <td>1</td>\n",
              "      <td>0</td>\n",
              "    </tr>\n",
              "    <tr>\n",
              "      <th>3</th>\n",
              "      <td>19/08/00</td>\n",
              "      <td>Derby</td>\n",
              "      <td>Southampton</td>\n",
              "      <td>2</td>\n",
              "      <td>2</td>\n",
              "      <td>D</td>\n",
              "      <td>1</td>\n",
              "      <td>2</td>\n",
              "      <td>A</td>\n",
              "      <td>6</td>\n",
              "      <td>13</td>\n",
              "      <td>4</td>\n",
              "      <td>6</td>\n",
              "      <td>5</td>\n",
              "      <td>8</td>\n",
              "      <td>11</td>\n",
              "      <td>13</td>\n",
              "      <td>1</td>\n",
              "      <td>1</td>\n",
              "      <td>0</td>\n",
              "      <td>0</td>\n",
              "    </tr>\n",
              "    <tr>\n",
              "      <th>4</th>\n",
              "      <td>19/08/00</td>\n",
              "      <td>Leeds</td>\n",
              "      <td>Everton</td>\n",
              "      <td>2</td>\n",
              "      <td>0</td>\n",
              "      <td>H</td>\n",
              "      <td>2</td>\n",
              "      <td>0</td>\n",
              "      <td>H</td>\n",
              "      <td>17</td>\n",
              "      <td>12</td>\n",
              "      <td>8</td>\n",
              "      <td>6</td>\n",
              "      <td>6</td>\n",
              "      <td>4</td>\n",
              "      <td>21</td>\n",
              "      <td>20</td>\n",
              "      <td>1</td>\n",
              "      <td>3</td>\n",
              "      <td>0</td>\n",
              "      <td>0</td>\n",
              "    </tr>\n",
              "  </tbody>\n",
              "</table>\n",
              "</div>"
            ],
            "text/plain": [
              "       Date  HomeTeam       AwayTeam  FTHG  FTAG FTR  ...  HF  AF HY  AY  HR  AR\n",
              "0  19/08/00  Charlton       Man City     4     0   H  ...  13  12  1   2   0   0\n",
              "1  19/08/00   Chelsea       West Ham     4     2   H  ...  19  14  1   2   0   0\n",
              "2  19/08/00  Coventry  Middlesbrough     1     3   A  ...  15  21  5   3   1   0\n",
              "3  19/08/00     Derby    Southampton     2     2   D  ...  11  13  1   1   0   0\n",
              "4  19/08/00     Leeds        Everton     2     0   H  ...  21  20  1   3   0   0\n",
              "\n",
              "[5 rows x 21 columns]"
            ]
          },
          "metadata": {
            "tags": []
          },
          "execution_count": 6
        }
      ]
    },
    {
      "cell_type": "markdown",
      "metadata": {
        "id": "E2HYRsbhuNvi",
        "colab_type": "text"
      },
      "source": [
        "Now we are going to check if there are any null values\n"
      ]
    },
    {
      "cell_type": "code",
      "metadata": {
        "id": "GFQqRLGLuWDm",
        "colab_type": "code",
        "colab": {
          "base_uri": "https://localhost:8080/",
          "height": 34
        },
        "outputId": "f2f8a2a3-4798-4c77-cf42-f2704520aa41"
      },
      "source": [
        "print(epl_df_objects.isnull().values.sum())\n"
      ],
      "execution_count": 7,
      "outputs": [
        {
          "output_type": "stream",
          "text": [
            "0\n"
          ],
          "name": "stdout"
        }
      ]
    },
    {
      "cell_type": "markdown",
      "metadata": {
        "id": "nIJZGwpnwzco",
        "colab_type": "text"
      },
      "source": [
        "Hooray! No null values so we don't have to fix our data. We can move on to the next step: fixing some of the features we want to keep.\n",
        "\n",
        "Since we only want the day the match was played we convert the date to day of the week in a new column and drop the original date column "
      ]
    },
    {
      "cell_type": "code",
      "metadata": {
        "id": "wRfqid77ohQ-",
        "colab_type": "code",
        "colab": {
          "base_uri": "https://localhost:8080/",
          "height": 238
        },
        "outputId": "7bfcc49d-619a-4c75-aa43-d89121a19bf4"
      },
      "source": [
        "#converting match date to epoch and day of the week\n",
        "\n",
        "epl_df_objects[\"matchDate\"] = pd.to_datetime(epl_df_objects[\"Date\"], infer_datetime_format=True)\n",
        "epl_df_objects['matchDay'] = epl_df_objects['matchDate'].dt.day_name()\n",
        "\n",
        "print(epl_df_objects[\"matchDate\"][0])\n",
        "print(epl_df_objects['matchDay'][149])\n",
        "\n",
        "epl_df_objects.drop('Date', axis=1, inplace=True)\n",
        "epl_df_objects.drop('matchDate', axis=1, inplace=True)\n",
        "\n",
        "\n",
        "epl_df_objects.head()"
      ],
      "execution_count": 8,
      "outputs": [
        {
          "output_type": "stream",
          "text": [
            "2000-08-19 00:00:00\n",
            "Saturday\n"
          ],
          "name": "stdout"
        },
        {
          "output_type": "execute_result",
          "data": {
            "text/html": [
              "<div>\n",
              "<style scoped>\n",
              "    .dataframe tbody tr th:only-of-type {\n",
              "        vertical-align: middle;\n",
              "    }\n",
              "\n",
              "    .dataframe tbody tr th {\n",
              "        vertical-align: top;\n",
              "    }\n",
              "\n",
              "    .dataframe thead th {\n",
              "        text-align: right;\n",
              "    }\n",
              "</style>\n",
              "<table border=\"1\" class=\"dataframe\">\n",
              "  <thead>\n",
              "    <tr style=\"text-align: right;\">\n",
              "      <th></th>\n",
              "      <th>HomeTeam</th>\n",
              "      <th>AwayTeam</th>\n",
              "      <th>FTHG</th>\n",
              "      <th>FTAG</th>\n",
              "      <th>FTR</th>\n",
              "      <th>HTHG</th>\n",
              "      <th>HTAG</th>\n",
              "      <th>HTR</th>\n",
              "      <th>HS</th>\n",
              "      <th>AS</th>\n",
              "      <th>HST</th>\n",
              "      <th>AST</th>\n",
              "      <th>HC</th>\n",
              "      <th>AC</th>\n",
              "      <th>HF</th>\n",
              "      <th>AF</th>\n",
              "      <th>HY</th>\n",
              "      <th>AY</th>\n",
              "      <th>HR</th>\n",
              "      <th>AR</th>\n",
              "      <th>matchDay</th>\n",
              "    </tr>\n",
              "  </thead>\n",
              "  <tbody>\n",
              "    <tr>\n",
              "      <th>0</th>\n",
              "      <td>Charlton</td>\n",
              "      <td>Man City</td>\n",
              "      <td>4</td>\n",
              "      <td>0</td>\n",
              "      <td>H</td>\n",
              "      <td>2</td>\n",
              "      <td>0</td>\n",
              "      <td>H</td>\n",
              "      <td>17</td>\n",
              "      <td>8</td>\n",
              "      <td>14</td>\n",
              "      <td>4</td>\n",
              "      <td>6</td>\n",
              "      <td>6</td>\n",
              "      <td>13</td>\n",
              "      <td>12</td>\n",
              "      <td>1</td>\n",
              "      <td>2</td>\n",
              "      <td>0</td>\n",
              "      <td>0</td>\n",
              "      <td>Saturday</td>\n",
              "    </tr>\n",
              "    <tr>\n",
              "      <th>1</th>\n",
              "      <td>Chelsea</td>\n",
              "      <td>West Ham</td>\n",
              "      <td>4</td>\n",
              "      <td>2</td>\n",
              "      <td>H</td>\n",
              "      <td>1</td>\n",
              "      <td>0</td>\n",
              "      <td>H</td>\n",
              "      <td>17</td>\n",
              "      <td>12</td>\n",
              "      <td>10</td>\n",
              "      <td>5</td>\n",
              "      <td>7</td>\n",
              "      <td>7</td>\n",
              "      <td>19</td>\n",
              "      <td>14</td>\n",
              "      <td>1</td>\n",
              "      <td>2</td>\n",
              "      <td>0</td>\n",
              "      <td>0</td>\n",
              "      <td>Saturday</td>\n",
              "    </tr>\n",
              "    <tr>\n",
              "      <th>2</th>\n",
              "      <td>Coventry</td>\n",
              "      <td>Middlesbrough</td>\n",
              "      <td>1</td>\n",
              "      <td>3</td>\n",
              "      <td>A</td>\n",
              "      <td>1</td>\n",
              "      <td>1</td>\n",
              "      <td>D</td>\n",
              "      <td>6</td>\n",
              "      <td>16</td>\n",
              "      <td>3</td>\n",
              "      <td>9</td>\n",
              "      <td>8</td>\n",
              "      <td>4</td>\n",
              "      <td>15</td>\n",
              "      <td>21</td>\n",
              "      <td>5</td>\n",
              "      <td>3</td>\n",
              "      <td>1</td>\n",
              "      <td>0</td>\n",
              "      <td>Saturday</td>\n",
              "    </tr>\n",
              "    <tr>\n",
              "      <th>3</th>\n",
              "      <td>Derby</td>\n",
              "      <td>Southampton</td>\n",
              "      <td>2</td>\n",
              "      <td>2</td>\n",
              "      <td>D</td>\n",
              "      <td>1</td>\n",
              "      <td>2</td>\n",
              "      <td>A</td>\n",
              "      <td>6</td>\n",
              "      <td>13</td>\n",
              "      <td>4</td>\n",
              "      <td>6</td>\n",
              "      <td>5</td>\n",
              "      <td>8</td>\n",
              "      <td>11</td>\n",
              "      <td>13</td>\n",
              "      <td>1</td>\n",
              "      <td>1</td>\n",
              "      <td>0</td>\n",
              "      <td>0</td>\n",
              "      <td>Saturday</td>\n",
              "    </tr>\n",
              "    <tr>\n",
              "      <th>4</th>\n",
              "      <td>Leeds</td>\n",
              "      <td>Everton</td>\n",
              "      <td>2</td>\n",
              "      <td>0</td>\n",
              "      <td>H</td>\n",
              "      <td>2</td>\n",
              "      <td>0</td>\n",
              "      <td>H</td>\n",
              "      <td>17</td>\n",
              "      <td>12</td>\n",
              "      <td>8</td>\n",
              "      <td>6</td>\n",
              "      <td>6</td>\n",
              "      <td>4</td>\n",
              "      <td>21</td>\n",
              "      <td>20</td>\n",
              "      <td>1</td>\n",
              "      <td>3</td>\n",
              "      <td>0</td>\n",
              "      <td>0</td>\n",
              "      <td>Saturday</td>\n",
              "    </tr>\n",
              "  </tbody>\n",
              "</table>\n",
              "</div>"
            ],
            "text/plain": [
              "   HomeTeam       AwayTeam  FTHG  FTAG FTR  HTHG  ...  AF HY  AY  HR  AR  matchDay\n",
              "0  Charlton       Man City     4     0   H     2  ...  12  1   2   0   0  Saturday\n",
              "1   Chelsea       West Ham     4     2   H     1  ...  14  1   2   0   0  Saturday\n",
              "2  Coventry  Middlesbrough     1     3   A     1  ...  21  5   3   1   0  Saturday\n",
              "3     Derby    Southampton     2     2   D     1  ...  13  1   1   0   0  Saturday\n",
              "4     Leeds        Everton     2     0   H     2  ...  20  1   3   0   0  Saturday\n",
              "\n",
              "[5 rows x 21 columns]"
            ]
          },
          "metadata": {
            "tags": []
          },
          "execution_count": 8
        }
      ]
    },
    {
      "cell_type": "markdown",
      "metadata": {
        "id": "EdKzgRRgzbME",
        "colab_type": "text"
      },
      "source": [
        "Now we convert all the object columns to numbers because a neural network does not accept text"
      ]
    },
    {
      "cell_type": "code",
      "metadata": {
        "id": "uHMzAhkmzpGP",
        "colab_type": "code",
        "colab": {
          "base_uri": "https://localhost:8080/",
          "height": 270
        },
        "outputId": "f6bc6b0a-dd91-4988-a6b3-c85a00f11f9f"
      },
      "source": [
        "epl_df_objects = pd.get_dummies(epl_df_objects, columns=['HomeTeam'], prefix = ['HomeTeam'])\n",
        "epl_df_objects = pd.get_dummies(epl_df_objects, columns=['AwayTeam'], prefix = ['AwayTeam'])\n",
        "epl_df_objects = pd.get_dummies(epl_df_objects, columns=['HTR'], prefix = ['HTR'])\n",
        "epl_df_objects = pd.get_dummies(epl_df_objects, columns=['matchDay'], prefix = ['matchDay'])\n",
        "\n",
        "epl_df_objects.head()\n",
        "\n"
      ],
      "execution_count": 9,
      "outputs": [
        {
          "output_type": "execute_result",
          "data": {
            "text/html": [
              "<div>\n",
              "<style scoped>\n",
              "    .dataframe tbody tr th:only-of-type {\n",
              "        vertical-align: middle;\n",
              "    }\n",
              "\n",
              "    .dataframe tbody tr th {\n",
              "        vertical-align: top;\n",
              "    }\n",
              "\n",
              "    .dataframe thead th {\n",
              "        text-align: right;\n",
              "    }\n",
              "</style>\n",
              "<table border=\"1\" class=\"dataframe\">\n",
              "  <thead>\n",
              "    <tr style=\"text-align: right;\">\n",
              "      <th></th>\n",
              "      <th>FTHG</th>\n",
              "      <th>FTAG</th>\n",
              "      <th>FTR</th>\n",
              "      <th>HTHG</th>\n",
              "      <th>HTAG</th>\n",
              "      <th>HS</th>\n",
              "      <th>AS</th>\n",
              "      <th>HST</th>\n",
              "      <th>AST</th>\n",
              "      <th>HC</th>\n",
              "      <th>AC</th>\n",
              "      <th>HF</th>\n",
              "      <th>AF</th>\n",
              "      <th>HY</th>\n",
              "      <th>AY</th>\n",
              "      <th>HR</th>\n",
              "      <th>AR</th>\n",
              "      <th>HomeTeam_Arsenal</th>\n",
              "      <th>HomeTeam_Aston Villa</th>\n",
              "      <th>HomeTeam_Birmingham</th>\n",
              "      <th>HomeTeam_Blackburn</th>\n",
              "      <th>HomeTeam_Blackpool</th>\n",
              "      <th>HomeTeam_Bolton</th>\n",
              "      <th>HomeTeam_Bournemouth</th>\n",
              "      <th>HomeTeam_Bradford</th>\n",
              "      <th>HomeTeam_Brighton</th>\n",
              "      <th>HomeTeam_Burnley</th>\n",
              "      <th>HomeTeam_Cardiff</th>\n",
              "      <th>HomeTeam_Charlton</th>\n",
              "      <th>HomeTeam_Chelsea</th>\n",
              "      <th>HomeTeam_Coventry</th>\n",
              "      <th>HomeTeam_Crystal Palace</th>\n",
              "      <th>HomeTeam_Derby</th>\n",
              "      <th>HomeTeam_Everton</th>\n",
              "      <th>HomeTeam_Fulham</th>\n",
              "      <th>HomeTeam_Huddersfield</th>\n",
              "      <th>HomeTeam_Hull</th>\n",
              "      <th>HomeTeam_Ipswich</th>\n",
              "      <th>HomeTeam_Leeds</th>\n",
              "      <th>HomeTeam_Leicester</th>\n",
              "      <th>...</th>\n",
              "      <th>AwayTeam_Coventry</th>\n",
              "      <th>AwayTeam_Crystal Palace</th>\n",
              "      <th>AwayTeam_Derby</th>\n",
              "      <th>AwayTeam_Everton</th>\n",
              "      <th>AwayTeam_Fulham</th>\n",
              "      <th>AwayTeam_Huddersfield</th>\n",
              "      <th>AwayTeam_Hull</th>\n",
              "      <th>AwayTeam_Ipswich</th>\n",
              "      <th>AwayTeam_Leeds</th>\n",
              "      <th>AwayTeam_Leicester</th>\n",
              "      <th>AwayTeam_Liverpool</th>\n",
              "      <th>AwayTeam_Man City</th>\n",
              "      <th>AwayTeam_Man United</th>\n",
              "      <th>AwayTeam_Middlesbrough</th>\n",
              "      <th>AwayTeam_Newcastle</th>\n",
              "      <th>AwayTeam_Norwich</th>\n",
              "      <th>AwayTeam_Portsmouth</th>\n",
              "      <th>AwayTeam_QPR</th>\n",
              "      <th>AwayTeam_Reading</th>\n",
              "      <th>AwayTeam_Sheffield United</th>\n",
              "      <th>AwayTeam_Southampton</th>\n",
              "      <th>AwayTeam_Stoke</th>\n",
              "      <th>AwayTeam_Sunderland</th>\n",
              "      <th>AwayTeam_Swansea</th>\n",
              "      <th>AwayTeam_Tottenham</th>\n",
              "      <th>AwayTeam_Watford</th>\n",
              "      <th>AwayTeam_West Brom</th>\n",
              "      <th>AwayTeam_West Ham</th>\n",
              "      <th>AwayTeam_Wigan</th>\n",
              "      <th>AwayTeam_Wolves</th>\n",
              "      <th>HTR_A</th>\n",
              "      <th>HTR_D</th>\n",
              "      <th>HTR_H</th>\n",
              "      <th>matchDay_Friday</th>\n",
              "      <th>matchDay_Monday</th>\n",
              "      <th>matchDay_Saturday</th>\n",
              "      <th>matchDay_Sunday</th>\n",
              "      <th>matchDay_Thursday</th>\n",
              "      <th>matchDay_Tuesday</th>\n",
              "      <th>matchDay_Wednesday</th>\n",
              "    </tr>\n",
              "  </thead>\n",
              "  <tbody>\n",
              "    <tr>\n",
              "      <th>0</th>\n",
              "      <td>4</td>\n",
              "      <td>0</td>\n",
              "      <td>H</td>\n",
              "      <td>2</td>\n",
              "      <td>0</td>\n",
              "      <td>17</td>\n",
              "      <td>8</td>\n",
              "      <td>14</td>\n",
              "      <td>4</td>\n",
              "      <td>6</td>\n",
              "      <td>6</td>\n",
              "      <td>13</td>\n",
              "      <td>12</td>\n",
              "      <td>1</td>\n",
              "      <td>2</td>\n",
              "      <td>0</td>\n",
              "      <td>0</td>\n",
              "      <td>0</td>\n",
              "      <td>0</td>\n",
              "      <td>0</td>\n",
              "      <td>0</td>\n",
              "      <td>0</td>\n",
              "      <td>0</td>\n",
              "      <td>0</td>\n",
              "      <td>0</td>\n",
              "      <td>0</td>\n",
              "      <td>0</td>\n",
              "      <td>0</td>\n",
              "      <td>1</td>\n",
              "      <td>0</td>\n",
              "      <td>0</td>\n",
              "      <td>0</td>\n",
              "      <td>0</td>\n",
              "      <td>0</td>\n",
              "      <td>0</td>\n",
              "      <td>0</td>\n",
              "      <td>0</td>\n",
              "      <td>0</td>\n",
              "      <td>0</td>\n",
              "      <td>0</td>\n",
              "      <td>...</td>\n",
              "      <td>0</td>\n",
              "      <td>0</td>\n",
              "      <td>0</td>\n",
              "      <td>0</td>\n",
              "      <td>0</td>\n",
              "      <td>0</td>\n",
              "      <td>0</td>\n",
              "      <td>0</td>\n",
              "      <td>0</td>\n",
              "      <td>0</td>\n",
              "      <td>0</td>\n",
              "      <td>1</td>\n",
              "      <td>0</td>\n",
              "      <td>0</td>\n",
              "      <td>0</td>\n",
              "      <td>0</td>\n",
              "      <td>0</td>\n",
              "      <td>0</td>\n",
              "      <td>0</td>\n",
              "      <td>0</td>\n",
              "      <td>0</td>\n",
              "      <td>0</td>\n",
              "      <td>0</td>\n",
              "      <td>0</td>\n",
              "      <td>0</td>\n",
              "      <td>0</td>\n",
              "      <td>0</td>\n",
              "      <td>0</td>\n",
              "      <td>0</td>\n",
              "      <td>0</td>\n",
              "      <td>0</td>\n",
              "      <td>0</td>\n",
              "      <td>1</td>\n",
              "      <td>0</td>\n",
              "      <td>0</td>\n",
              "      <td>1</td>\n",
              "      <td>0</td>\n",
              "      <td>0</td>\n",
              "      <td>0</td>\n",
              "      <td>0</td>\n",
              "    </tr>\n",
              "    <tr>\n",
              "      <th>1</th>\n",
              "      <td>4</td>\n",
              "      <td>2</td>\n",
              "      <td>H</td>\n",
              "      <td>1</td>\n",
              "      <td>0</td>\n",
              "      <td>17</td>\n",
              "      <td>12</td>\n",
              "      <td>10</td>\n",
              "      <td>5</td>\n",
              "      <td>7</td>\n",
              "      <td>7</td>\n",
              "      <td>19</td>\n",
              "      <td>14</td>\n",
              "      <td>1</td>\n",
              "      <td>2</td>\n",
              "      <td>0</td>\n",
              "      <td>0</td>\n",
              "      <td>0</td>\n",
              "      <td>0</td>\n",
              "      <td>0</td>\n",
              "      <td>0</td>\n",
              "      <td>0</td>\n",
              "      <td>0</td>\n",
              "      <td>0</td>\n",
              "      <td>0</td>\n",
              "      <td>0</td>\n",
              "      <td>0</td>\n",
              "      <td>0</td>\n",
              "      <td>0</td>\n",
              "      <td>1</td>\n",
              "      <td>0</td>\n",
              "      <td>0</td>\n",
              "      <td>0</td>\n",
              "      <td>0</td>\n",
              "      <td>0</td>\n",
              "      <td>0</td>\n",
              "      <td>0</td>\n",
              "      <td>0</td>\n",
              "      <td>0</td>\n",
              "      <td>0</td>\n",
              "      <td>...</td>\n",
              "      <td>0</td>\n",
              "      <td>0</td>\n",
              "      <td>0</td>\n",
              "      <td>0</td>\n",
              "      <td>0</td>\n",
              "      <td>0</td>\n",
              "      <td>0</td>\n",
              "      <td>0</td>\n",
              "      <td>0</td>\n",
              "      <td>0</td>\n",
              "      <td>0</td>\n",
              "      <td>0</td>\n",
              "      <td>0</td>\n",
              "      <td>0</td>\n",
              "      <td>0</td>\n",
              "      <td>0</td>\n",
              "      <td>0</td>\n",
              "      <td>0</td>\n",
              "      <td>0</td>\n",
              "      <td>0</td>\n",
              "      <td>0</td>\n",
              "      <td>0</td>\n",
              "      <td>0</td>\n",
              "      <td>0</td>\n",
              "      <td>0</td>\n",
              "      <td>0</td>\n",
              "      <td>0</td>\n",
              "      <td>1</td>\n",
              "      <td>0</td>\n",
              "      <td>0</td>\n",
              "      <td>0</td>\n",
              "      <td>0</td>\n",
              "      <td>1</td>\n",
              "      <td>0</td>\n",
              "      <td>0</td>\n",
              "      <td>1</td>\n",
              "      <td>0</td>\n",
              "      <td>0</td>\n",
              "      <td>0</td>\n",
              "      <td>0</td>\n",
              "    </tr>\n",
              "    <tr>\n",
              "      <th>2</th>\n",
              "      <td>1</td>\n",
              "      <td>3</td>\n",
              "      <td>A</td>\n",
              "      <td>1</td>\n",
              "      <td>1</td>\n",
              "      <td>6</td>\n",
              "      <td>16</td>\n",
              "      <td>3</td>\n",
              "      <td>9</td>\n",
              "      <td>8</td>\n",
              "      <td>4</td>\n",
              "      <td>15</td>\n",
              "      <td>21</td>\n",
              "      <td>5</td>\n",
              "      <td>3</td>\n",
              "      <td>1</td>\n",
              "      <td>0</td>\n",
              "      <td>0</td>\n",
              "      <td>0</td>\n",
              "      <td>0</td>\n",
              "      <td>0</td>\n",
              "      <td>0</td>\n",
              "      <td>0</td>\n",
              "      <td>0</td>\n",
              "      <td>0</td>\n",
              "      <td>0</td>\n",
              "      <td>0</td>\n",
              "      <td>0</td>\n",
              "      <td>0</td>\n",
              "      <td>0</td>\n",
              "      <td>1</td>\n",
              "      <td>0</td>\n",
              "      <td>0</td>\n",
              "      <td>0</td>\n",
              "      <td>0</td>\n",
              "      <td>0</td>\n",
              "      <td>0</td>\n",
              "      <td>0</td>\n",
              "      <td>0</td>\n",
              "      <td>0</td>\n",
              "      <td>...</td>\n",
              "      <td>0</td>\n",
              "      <td>0</td>\n",
              "      <td>0</td>\n",
              "      <td>0</td>\n",
              "      <td>0</td>\n",
              "      <td>0</td>\n",
              "      <td>0</td>\n",
              "      <td>0</td>\n",
              "      <td>0</td>\n",
              "      <td>0</td>\n",
              "      <td>0</td>\n",
              "      <td>0</td>\n",
              "      <td>0</td>\n",
              "      <td>1</td>\n",
              "      <td>0</td>\n",
              "      <td>0</td>\n",
              "      <td>0</td>\n",
              "      <td>0</td>\n",
              "      <td>0</td>\n",
              "      <td>0</td>\n",
              "      <td>0</td>\n",
              "      <td>0</td>\n",
              "      <td>0</td>\n",
              "      <td>0</td>\n",
              "      <td>0</td>\n",
              "      <td>0</td>\n",
              "      <td>0</td>\n",
              "      <td>0</td>\n",
              "      <td>0</td>\n",
              "      <td>0</td>\n",
              "      <td>0</td>\n",
              "      <td>1</td>\n",
              "      <td>0</td>\n",
              "      <td>0</td>\n",
              "      <td>0</td>\n",
              "      <td>1</td>\n",
              "      <td>0</td>\n",
              "      <td>0</td>\n",
              "      <td>0</td>\n",
              "      <td>0</td>\n",
              "    </tr>\n",
              "    <tr>\n",
              "      <th>3</th>\n",
              "      <td>2</td>\n",
              "      <td>2</td>\n",
              "      <td>D</td>\n",
              "      <td>1</td>\n",
              "      <td>2</td>\n",
              "      <td>6</td>\n",
              "      <td>13</td>\n",
              "      <td>4</td>\n",
              "      <td>6</td>\n",
              "      <td>5</td>\n",
              "      <td>8</td>\n",
              "      <td>11</td>\n",
              "      <td>13</td>\n",
              "      <td>1</td>\n",
              "      <td>1</td>\n",
              "      <td>0</td>\n",
              "      <td>0</td>\n",
              "      <td>0</td>\n",
              "      <td>0</td>\n",
              "      <td>0</td>\n",
              "      <td>0</td>\n",
              "      <td>0</td>\n",
              "      <td>0</td>\n",
              "      <td>0</td>\n",
              "      <td>0</td>\n",
              "      <td>0</td>\n",
              "      <td>0</td>\n",
              "      <td>0</td>\n",
              "      <td>0</td>\n",
              "      <td>0</td>\n",
              "      <td>0</td>\n",
              "      <td>0</td>\n",
              "      <td>1</td>\n",
              "      <td>0</td>\n",
              "      <td>0</td>\n",
              "      <td>0</td>\n",
              "      <td>0</td>\n",
              "      <td>0</td>\n",
              "      <td>0</td>\n",
              "      <td>0</td>\n",
              "      <td>...</td>\n",
              "      <td>0</td>\n",
              "      <td>0</td>\n",
              "      <td>0</td>\n",
              "      <td>0</td>\n",
              "      <td>0</td>\n",
              "      <td>0</td>\n",
              "      <td>0</td>\n",
              "      <td>0</td>\n",
              "      <td>0</td>\n",
              "      <td>0</td>\n",
              "      <td>0</td>\n",
              "      <td>0</td>\n",
              "      <td>0</td>\n",
              "      <td>0</td>\n",
              "      <td>0</td>\n",
              "      <td>0</td>\n",
              "      <td>0</td>\n",
              "      <td>0</td>\n",
              "      <td>0</td>\n",
              "      <td>0</td>\n",
              "      <td>1</td>\n",
              "      <td>0</td>\n",
              "      <td>0</td>\n",
              "      <td>0</td>\n",
              "      <td>0</td>\n",
              "      <td>0</td>\n",
              "      <td>0</td>\n",
              "      <td>0</td>\n",
              "      <td>0</td>\n",
              "      <td>0</td>\n",
              "      <td>1</td>\n",
              "      <td>0</td>\n",
              "      <td>0</td>\n",
              "      <td>0</td>\n",
              "      <td>0</td>\n",
              "      <td>1</td>\n",
              "      <td>0</td>\n",
              "      <td>0</td>\n",
              "      <td>0</td>\n",
              "      <td>0</td>\n",
              "    </tr>\n",
              "    <tr>\n",
              "      <th>4</th>\n",
              "      <td>2</td>\n",
              "      <td>0</td>\n",
              "      <td>H</td>\n",
              "      <td>2</td>\n",
              "      <td>0</td>\n",
              "      <td>17</td>\n",
              "      <td>12</td>\n",
              "      <td>8</td>\n",
              "      <td>6</td>\n",
              "      <td>6</td>\n",
              "      <td>4</td>\n",
              "      <td>21</td>\n",
              "      <td>20</td>\n",
              "      <td>1</td>\n",
              "      <td>3</td>\n",
              "      <td>0</td>\n",
              "      <td>0</td>\n",
              "      <td>0</td>\n",
              "      <td>0</td>\n",
              "      <td>0</td>\n",
              "      <td>0</td>\n",
              "      <td>0</td>\n",
              "      <td>0</td>\n",
              "      <td>0</td>\n",
              "      <td>0</td>\n",
              "      <td>0</td>\n",
              "      <td>0</td>\n",
              "      <td>0</td>\n",
              "      <td>0</td>\n",
              "      <td>0</td>\n",
              "      <td>0</td>\n",
              "      <td>0</td>\n",
              "      <td>0</td>\n",
              "      <td>0</td>\n",
              "      <td>0</td>\n",
              "      <td>0</td>\n",
              "      <td>0</td>\n",
              "      <td>0</td>\n",
              "      <td>1</td>\n",
              "      <td>0</td>\n",
              "      <td>...</td>\n",
              "      <td>0</td>\n",
              "      <td>0</td>\n",
              "      <td>0</td>\n",
              "      <td>1</td>\n",
              "      <td>0</td>\n",
              "      <td>0</td>\n",
              "      <td>0</td>\n",
              "      <td>0</td>\n",
              "      <td>0</td>\n",
              "      <td>0</td>\n",
              "      <td>0</td>\n",
              "      <td>0</td>\n",
              "      <td>0</td>\n",
              "      <td>0</td>\n",
              "      <td>0</td>\n",
              "      <td>0</td>\n",
              "      <td>0</td>\n",
              "      <td>0</td>\n",
              "      <td>0</td>\n",
              "      <td>0</td>\n",
              "      <td>0</td>\n",
              "      <td>0</td>\n",
              "      <td>0</td>\n",
              "      <td>0</td>\n",
              "      <td>0</td>\n",
              "      <td>0</td>\n",
              "      <td>0</td>\n",
              "      <td>0</td>\n",
              "      <td>0</td>\n",
              "      <td>0</td>\n",
              "      <td>0</td>\n",
              "      <td>0</td>\n",
              "      <td>1</td>\n",
              "      <td>0</td>\n",
              "      <td>0</td>\n",
              "      <td>1</td>\n",
              "      <td>0</td>\n",
              "      <td>0</td>\n",
              "      <td>0</td>\n",
              "      <td>0</td>\n",
              "    </tr>\n",
              "  </tbody>\n",
              "</table>\n",
              "<p>5 rows × 113 columns</p>\n",
              "</div>"
            ],
            "text/plain": [
              "   FTHG  FTAG FTR  ...  matchDay_Thursday  matchDay_Tuesday  matchDay_Wednesday\n",
              "0     4     0   H  ...                  0                 0                   0\n",
              "1     4     2   H  ...                  0                 0                   0\n",
              "2     1     3   A  ...                  0                 0                   0\n",
              "3     2     2   D  ...                  0                 0                   0\n",
              "4     2     0   H  ...                  0                 0                   0\n",
              "\n",
              "[5 rows x 113 columns]"
            ]
          },
          "metadata": {
            "tags": []
          },
          "execution_count": 9
        }
      ]
    },
    {
      "cell_type": "markdown",
      "metadata": {
        "id": "oWeV37my1vsw",
        "colab_type": "text"
      },
      "source": [
        "Before assigning features to X and the label to y we need to convert the label to numeric values. We alsos assign all the relevant features to an intermediate variable"
      ]
    },
    {
      "cell_type": "code",
      "metadata": {
        "id": "I5RO4MUX129p",
        "colab_type": "code",
        "colab": {
          "base_uri": "https://localhost:8080/",
          "height": 340
        },
        "outputId": "5f460c83-9f1a-4ef1-8905-1039ccd6c096"
      },
      "source": [
        "from sklearn.preprocessing import LabelEncoder\n",
        "label_encoder = LabelEncoder()\n",
        "\n",
        "\n",
        "epl_df_objects['FTR']= label_encoder.fit_transform(epl_df_objects['FTR']) \n",
        "  \n",
        "print('Unique values for our label are: ', epl_df_objects['FTR'].unique())\n",
        "print('if the home team wins the label is ', epl_df_objects['FTR'][0])\n",
        "print('if the away team wins the label is ', epl_df_objects['FTR'][2])\n",
        "print('if there is a tie the label is ', epl_df_objects['FTR'][3])\n",
        "\n",
        "label = epl_df_objects['FTR']\n",
        "print(label[149])\n",
        "\n",
        "print(epl_df_objects.iloc[:,3:113])\n",
        "\n",
        "features = epl_df_objects.iloc[:,3:113]\n",
        "\n",
        "#for col in epl_df_objects.columns: \n",
        "#   print(col) "
      ],
      "execution_count": 10,
      "outputs": [
        {
          "output_type": "stream",
          "text": [
            "Unique values for our label are:  [2 0 1]\n",
            "if the home team wins the label is  2\n",
            "if the away team wins the label is  0\n",
            "if there is a tie the label is  1\n",
            "2\n",
            "      HTHG  HTAG  HS  ...  matchDay_Thursday  matchDay_Tuesday  matchDay_Wednesday\n",
            "0        2     0  17  ...                  0                 0                   0\n",
            "1        1     0  17  ...                  0                 0                   0\n",
            "2        1     1   6  ...                  0                 0                   0\n",
            "3        1     2   6  ...                  0                 0                   0\n",
            "4        2     0  17  ...                  0                 0                   0\n",
            "...    ...   ...  ..  ...                ...               ...                 ...\n",
            "7381     0     0  11  ...                  0                 0                   0\n",
            "7382     1     0  21  ...                  0                 0                   0\n",
            "7383     2     0  17  ...                  0                 0                   0\n",
            "7384     1     0  12  ...                  0                 0                   0\n",
            "7385     1     0  15  ...                  1                 0                   0\n",
            "\n",
            "[7386 rows x 110 columns]\n"
          ],
          "name": "stdout"
        }
      ]
    },
    {
      "cell_type": "markdown",
      "metadata": {
        "id": "1wP_QVa6vjnP",
        "colab_type": "text"
      },
      "source": [
        "Now we can create X and y and divide the dataset in a training set and a test set. We will use the test set to check and see if we are overfitting"
      ]
    },
    {
      "cell_type": "code",
      "metadata": {
        "id": "mCHUURIGv0lP",
        "colab_type": "code",
        "colab": {
          "base_uri": "https://localhost:8080/",
          "height": 340
        },
        "outputId": "ceeb2db4-49e2-4c56-da54-c6c56252fac6"
      },
      "source": [
        "from sklearn.model_selection import train_test_split\n",
        "\n",
        "y=np.ravel(label)\n",
        "X = features\n",
        "\n",
        "\n",
        "X_train, X_test, y_train, y_test = train_test_split(X, y, test_size=0.33, shuffle=False)\n",
        "\n",
        "print(\"The shape of X_train is \" + str(X_train.shape))\n",
        "print(\"The size of y_train is \" + str(y_train.shape))\n",
        "print(\"The size of X_test set is \" + str(X_test.shape))\n",
        "print(\"The size of y_test is \" + str(y_test.shape))\n",
        "\n",
        "print(X_train)\n",
        "print(y_train[0])"
      ],
      "execution_count": 11,
      "outputs": [
        {
          "output_type": "stream",
          "text": [
            "The shape of X_train is (4948, 110)\n",
            "The size of y_train is (4948,)\n",
            "The size of X_test set is (2438, 110)\n",
            "The size of y_test is (2438,)\n",
            "      HTHG  HTAG  HS  ...  matchDay_Thursday  matchDay_Tuesday  matchDay_Wednesday\n",
            "0        2     0  17  ...                  0                 0                   0\n",
            "1        1     0  17  ...                  0                 0                   0\n",
            "2        1     1   6  ...                  0                 0                   0\n",
            "3        1     2   6  ...                  0                 0                   0\n",
            "4        2     0  17  ...                  0                 0                   0\n",
            "...    ...   ...  ..  ...                ...               ...                 ...\n",
            "4943     0     0  23  ...                  0                 0                   0\n",
            "4944     0     1  16  ...                  0                 0                   0\n",
            "4945     1     1  12  ...                  0                 0                   0\n",
            "4946     1     0  22  ...                  0                 0                   0\n",
            "4947     1     1  10  ...                  0                 0                   0\n",
            "\n",
            "[4948 rows x 110 columns]\n",
            "2\n"
          ],
          "name": "stdout"
        }
      ]
    },
    {
      "cell_type": "markdown",
      "metadata": {
        "id": "w0Wjs1tBrgIx",
        "colab_type": "text"
      },
      "source": [
        "Great!\n",
        "\n",
        "Let's print a few rows of y_train to make sure they are one hot-encoded"
      ]
    },
    {
      "cell_type": "code",
      "metadata": {
        "id": "axdh3NqTrw6R",
        "colab_type": "code",
        "colab": {
          "base_uri": "https://localhost:8080/",
          "height": 68
        },
        "outputId": "f3a756fe-1e04-4ac7-d28b-c2e84d4e8e1f"
      },
      "source": [
        "#one hot-encoding y_train and y_test\n",
        "y_train = tf.keras.utils.to_categorical(y_train, num_classes=3)\n",
        "y_test = tf.keras.utils.to_categorical(y_test, num_classes=3)\n",
        "\n",
        "print(\"The size of y_train is \" + str(y_train.shape))\n",
        "print(\"The size of y_test is \" + str(y_test.shape))\n",
        "\n",
        "print(y_train[0])"
      ],
      "execution_count": 12,
      "outputs": [
        {
          "output_type": "stream",
          "text": [
            "The size of y_train is (4948, 3)\n",
            "The size of y_test is (2438, 3)\n",
            "[0. 0. 1.]\n"
          ],
          "name": "stdout"
        }
      ]
    },
    {
      "cell_type": "markdown",
      "metadata": {
        "id": "8SKRVt460Tqt",
        "colab_type": "text"
      },
      "source": [
        "We now create our models. We will start with a neural network using tensorflow and keras"
      ]
    },
    {
      "cell_type": "code",
      "metadata": {
        "id": "2vyQcE0n0bsy",
        "colab_type": "code",
        "colab": {
          "base_uri": "https://localhost:8080/",
          "height": 255
        },
        "outputId": "88605779-63dd-4177-f0ee-852f7daf2199"
      },
      "source": [
        "model = tf.keras.models.Sequential([\n",
        "      tf.keras.layers.Dense(330, input_dim=110, activation='relu'), \n",
        "      tf.keras.layers.Dense(10, input_dim=330, activation='relu'),                               \n",
        "      tf.keras.layers.Dense(3,activation='softmax')\n",
        "])\n",
        "\n",
        "model.summary()\n",
        "\n",
        "model.compile(loss = 'categorical_crossentropy', optimizer='adam', metrics=['accuracy'])\n"
      ],
      "execution_count": 13,
      "outputs": [
        {
          "output_type": "stream",
          "text": [
            "Model: \"sequential\"\n",
            "_________________________________________________________________\n",
            "Layer (type)                 Output Shape              Param #   \n",
            "=================================================================\n",
            "dense (Dense)                (None, 330)               36630     \n",
            "_________________________________________________________________\n",
            "dense_1 (Dense)              (None, 10)                3310      \n",
            "_________________________________________________________________\n",
            "dense_2 (Dense)              (None, 3)                 33        \n",
            "=================================================================\n",
            "Total params: 39,973\n",
            "Trainable params: 39,973\n",
            "Non-trainable params: 0\n",
            "_________________________________________________________________\n"
          ],
          "name": "stdout"
        }
      ]
    },
    {
      "cell_type": "markdown",
      "metadata": {
        "id": "ONSd9Oyg2PrR",
        "colab_type": "text"
      },
      "source": [
        "Our model is now ready to be fitted. "
      ]
    },
    {
      "cell_type": "code",
      "metadata": {
        "id": "mSlDOc5p19Na",
        "colab_type": "code",
        "colab": {
          "base_uri": "https://localhost:8080/",
          "height": 1000
        },
        "outputId": "58b7f66c-621d-4e36-8d0f-a101b68b8c59"
      },
      "source": [
        "history = model.fit(X_train, y_train, epochs=65)\n"
      ],
      "execution_count": 14,
      "outputs": [
        {
          "output_type": "stream",
          "text": [
            "Epoch 1/65\n",
            "155/155 [==============================] - 0s 2ms/step - loss: 0.8804 - accuracy: 0.5914\n",
            "Epoch 2/65\n",
            "155/155 [==============================] - 0s 2ms/step - loss: 0.7976 - accuracy: 0.6427\n",
            "Epoch 3/65\n",
            "155/155 [==============================] - 0s 2ms/step - loss: 0.7551 - accuracy: 0.6542\n",
            "Epoch 4/65\n",
            "155/155 [==============================] - 0s 2ms/step - loss: 0.7490 - accuracy: 0.6629\n",
            "Epoch 5/65\n",
            "155/155 [==============================] - 0s 2ms/step - loss: 0.7388 - accuracy: 0.6633\n",
            "Epoch 6/65\n",
            "155/155 [==============================] - 0s 2ms/step - loss: 0.7264 - accuracy: 0.6758\n",
            "Epoch 7/65\n",
            "155/155 [==============================] - 0s 2ms/step - loss: 0.7237 - accuracy: 0.6698\n",
            "Epoch 8/65\n",
            "155/155 [==============================] - 0s 2ms/step - loss: 0.7135 - accuracy: 0.6758\n",
            "Epoch 9/65\n",
            "155/155 [==============================] - 0s 2ms/step - loss: 0.7067 - accuracy: 0.6833\n",
            "Epoch 10/65\n",
            "155/155 [==============================] - 0s 2ms/step - loss: 0.7021 - accuracy: 0.6910\n",
            "Epoch 11/65\n",
            "155/155 [==============================] - 0s 2ms/step - loss: 0.6905 - accuracy: 0.6912\n",
            "Epoch 12/65\n",
            "155/155 [==============================] - 0s 2ms/step - loss: 0.6908 - accuracy: 0.6869\n",
            "Epoch 13/65\n",
            "155/155 [==============================] - 0s 2ms/step - loss: 0.6820 - accuracy: 0.6997\n",
            "Epoch 14/65\n",
            "155/155 [==============================] - 0s 2ms/step - loss: 0.6692 - accuracy: 0.7037\n",
            "Epoch 15/65\n",
            "155/155 [==============================] - 0s 2ms/step - loss: 0.6617 - accuracy: 0.7082\n",
            "Epoch 16/65\n",
            "155/155 [==============================] - 0s 2ms/step - loss: 0.6554 - accuracy: 0.7059\n",
            "Epoch 17/65\n",
            "155/155 [==============================] - 0s 2ms/step - loss: 0.6400 - accuracy: 0.7201\n",
            "Epoch 18/65\n",
            "155/155 [==============================] - 0s 2ms/step - loss: 0.6289 - accuracy: 0.7199\n",
            "Epoch 19/65\n",
            "155/155 [==============================] - 0s 2ms/step - loss: 0.6077 - accuracy: 0.7282\n",
            "Epoch 20/65\n",
            "155/155 [==============================] - 0s 2ms/step - loss: 0.6048 - accuracy: 0.7375\n",
            "Epoch 21/65\n",
            "155/155 [==============================] - 0s 2ms/step - loss: 0.5821 - accuracy: 0.7470\n",
            "Epoch 22/65\n",
            "155/155 [==============================] - 0s 2ms/step - loss: 0.5682 - accuracy: 0.7544\n",
            "Epoch 23/65\n",
            "155/155 [==============================] - 0s 2ms/step - loss: 0.5581 - accuracy: 0.7583\n",
            "Epoch 24/65\n",
            "155/155 [==============================] - 0s 2ms/step - loss: 0.5388 - accuracy: 0.7664\n",
            "Epoch 25/65\n",
            "155/155 [==============================] - 0s 2ms/step - loss: 0.5267 - accuracy: 0.7755\n",
            "Epoch 26/65\n",
            "155/155 [==============================] - 0s 2ms/step - loss: 0.5053 - accuracy: 0.7922\n",
            "Epoch 27/65\n",
            "155/155 [==============================] - 0s 2ms/step - loss: 0.4937 - accuracy: 0.7973\n",
            "Epoch 28/65\n",
            "155/155 [==============================] - 0s 2ms/step - loss: 0.4725 - accuracy: 0.8088\n",
            "Epoch 29/65\n",
            "155/155 [==============================] - 0s 2ms/step - loss: 0.4501 - accuracy: 0.8159\n",
            "Epoch 30/65\n",
            "155/155 [==============================] - 0s 2ms/step - loss: 0.4274 - accuracy: 0.8316\n",
            "Epoch 31/65\n",
            "155/155 [==============================] - 0s 2ms/step - loss: 0.4174 - accuracy: 0.8375\n",
            "Epoch 32/65\n",
            "155/155 [==============================] - 0s 2ms/step - loss: 0.3990 - accuracy: 0.8414\n",
            "Epoch 33/65\n",
            "155/155 [==============================] - 0s 2ms/step - loss: 0.3822 - accuracy: 0.8543\n",
            "Epoch 34/65\n",
            "155/155 [==============================] - 0s 2ms/step - loss: 0.3778 - accuracy: 0.8466\n",
            "Epoch 35/65\n",
            "155/155 [==============================] - 0s 2ms/step - loss: 0.3556 - accuracy: 0.8638\n",
            "Epoch 36/65\n",
            "155/155 [==============================] - 0s 2ms/step - loss: 0.3365 - accuracy: 0.8711\n",
            "Epoch 37/65\n",
            "155/155 [==============================] - 0s 2ms/step - loss: 0.3216 - accuracy: 0.8812\n",
            "Epoch 38/65\n",
            "155/155 [==============================] - 0s 2ms/step - loss: 0.3073 - accuracy: 0.8860\n",
            "Epoch 39/65\n",
            "155/155 [==============================] - 0s 2ms/step - loss: 0.2717 - accuracy: 0.9056\n",
            "Epoch 40/65\n",
            "155/155 [==============================] - 0s 2ms/step - loss: 0.2644 - accuracy: 0.9050\n",
            "Epoch 41/65\n",
            "155/155 [==============================] - 0s 2ms/step - loss: 0.2454 - accuracy: 0.9139\n",
            "Epoch 42/65\n",
            "155/155 [==============================] - 0s 2ms/step - loss: 0.2441 - accuracy: 0.9137\n",
            "Epoch 43/65\n",
            "155/155 [==============================] - 0s 2ms/step - loss: 0.2231 - accuracy: 0.9242\n",
            "Epoch 44/65\n",
            "155/155 [==============================] - 0s 2ms/step - loss: 0.2088 - accuracy: 0.9274\n",
            "Epoch 45/65\n",
            "155/155 [==============================] - 0s 2ms/step - loss: 0.2026 - accuracy: 0.9297\n",
            "Epoch 46/65\n",
            "155/155 [==============================] - 0s 2ms/step - loss: 0.1757 - accuracy: 0.9456\n",
            "Epoch 47/65\n",
            "155/155 [==============================] - 0s 2ms/step - loss: 0.1786 - accuracy: 0.9398\n",
            "Epoch 48/65\n",
            "155/155 [==============================] - 0s 2ms/step - loss: 0.1547 - accuracy: 0.9511\n",
            "Epoch 49/65\n",
            "155/155 [==============================] - 0s 2ms/step - loss: 0.1525 - accuracy: 0.9511\n",
            "Epoch 50/65\n",
            "155/155 [==============================] - 0s 2ms/step - loss: 0.1553 - accuracy: 0.9473\n",
            "Epoch 51/65\n",
            "155/155 [==============================] - 0s 2ms/step - loss: 0.1402 - accuracy: 0.9549\n",
            "Epoch 52/65\n",
            "155/155 [==============================] - 0s 2ms/step - loss: 0.1075 - accuracy: 0.9717\n",
            "Epoch 53/65\n",
            "155/155 [==============================] - 0s 2ms/step - loss: 0.1012 - accuracy: 0.9727\n",
            "Epoch 54/65\n",
            "155/155 [==============================] - 0s 2ms/step - loss: 0.0989 - accuracy: 0.9725\n",
            "Epoch 55/65\n",
            "155/155 [==============================] - 0s 2ms/step - loss: 0.0966 - accuracy: 0.9723\n",
            "Epoch 56/65\n",
            "155/155 [==============================] - 0s 2ms/step - loss: 0.0960 - accuracy: 0.9715\n",
            "Epoch 57/65\n",
            "155/155 [==============================] - 0s 2ms/step - loss: 0.0755 - accuracy: 0.9840\n",
            "Epoch 58/65\n",
            "155/155 [==============================] - 0s 2ms/step - loss: 0.0785 - accuracy: 0.9804\n",
            "Epoch 59/65\n",
            "155/155 [==============================] - 0s 2ms/step - loss: 0.0985 - accuracy: 0.9697\n",
            "Epoch 60/65\n",
            "155/155 [==============================] - 0s 2ms/step - loss: 0.0995 - accuracy: 0.9662\n",
            "Epoch 61/65\n",
            "155/155 [==============================] - 0s 2ms/step - loss: 0.0649 - accuracy: 0.9848\n",
            "Epoch 62/65\n",
            "155/155 [==============================] - 0s 2ms/step - loss: 0.0441 - accuracy: 0.9933\n",
            "Epoch 63/65\n",
            "155/155 [==============================] - 0s 2ms/step - loss: 0.0482 - accuracy: 0.9903\n",
            "Epoch 64/65\n",
            "155/155 [==============================] - 0s 2ms/step - loss: 0.0431 - accuracy: 0.9915\n",
            "Epoch 65/65\n",
            "155/155 [==============================] - 0s 2ms/step - loss: 0.0726 - accuracy: 0.9778\n"
          ],
          "name": "stdout"
        }
      ]
    },
    {
      "cell_type": "markdown",
      "metadata": {
        "id": "LpxBrxc37pyb",
        "colab_type": "text"
      },
      "source": [
        "Now we can evaluate our model on the test set"
      ]
    },
    {
      "cell_type": "code",
      "metadata": {
        "id": "cr54m3kd7lkw",
        "colab_type": "code",
        "colab": {
          "base_uri": "https://localhost:8080/",
          "height": 68
        },
        "outputId": "2a1cb1c8-b55c-41f6-f691-fa67e576ed5a"
      },
      "source": [
        "score = model.evaluate(X_test, y_test, verbose=1)\n",
        "\n",
        "print(\"Test Score:\", score[0])\n",
        "print(\"Test Accuracy:\", score[1])"
      ],
      "execution_count": 15,
      "outputs": [
        {
          "output_type": "stream",
          "text": [
            "77/77 [==============================] - 0s 1ms/step - loss: 2.8141 - accuracy: 0.5751\n",
            "Test Score: 2.81408429145813\n",
            "Test Accuracy: 0.5750615000724792\n"
          ],
          "name": "stdout"
        }
      ]
    },
    {
      "cell_type": "markdown",
      "metadata": {
        "id": "xWp4ZA5Q8B_l",
        "colab_type": "text"
      },
      "source": [
        "Now let's try to make a prediction with data from a future premiership match from this current season:\n",
        "\n",
        "Arsenal at home vs Norwich on Wednesday 07/01/2020\n",
        "\n"
      ]
    },
    {
      "cell_type": "code",
      "metadata": {
        "id": "LwLLCV-O77o3",
        "colab_type": "code",
        "colab": {
          "base_uri": "https://localhost:8080/",
          "height": 136
        },
        "outputId": "380ef6a1-9586-4f30-d960-6424d62ab3d9"
      },
      "source": [
        "Xnew = np.array([[0, 0, 0, 0, 0, 0, 0, 0, 0, 0, 0, 0, 0, 0, 1, 0, 0, 0, 0, 0, 0, 0, 0, 0, 0, 0, 0, 0, 0, 0, 0, 0, 0, 0, 0, 0, 0, 0, 0, 0, 0, 0, 0, 0, 0, 0, 0, 0, 0, 0, 0, 0, 0, 0, 0, 0, 0, 0, 0, 0, 0, 0, 0, 0, 0, 0, 0, 0, 0, 0, 0, 0, 0, 0, 0, 0, 0, 0, 0, 0, 0, 0, 0, 0, 0, 1, 0, 0, 0, 0, 0, 0, 0, 0, 0, 0, 0, 0, 0, 0, 0, 0, 0, 0, 0, 0, 0, 0, 0, 1]])\n",
        "print(Xnew.shape)\n",
        "\n",
        " # make a prediction\n",
        "ynew = np.argmax(model.predict(Xnew), axis=-1)\n",
        "# show the inputs and predicted outputs\n",
        "print(\"X = %s \" % Xnew)\n",
        "print(\"Prediction = %s\" % ynew[0])\n",
        "\n",
        "if ynew[0] == 2:\n",
        "  print(\"Home team is going to win\")\n",
        "elif ynew[0] == 0:\n",
        "  print(\"Away team is going to win\")\n",
        "else:\n",
        "  print(\"It is going to be a draw\")"
      ],
      "execution_count": 16,
      "outputs": [
        {
          "output_type": "stream",
          "text": [
            "(1, 110)\n",
            "X = [[0 0 0 0 0 0 0 0 0 0 0 0 0 0 1 0 0 0 0 0 0 0 0 0 0 0 0 0 0 0 0 0 0 0 0 0\n",
            "  0 0 0 0 0 0 0 0 0 0 0 0 0 0 0 0 0 0 0 0 0 0 0 0 0 0 0 0 0 0 0 0 0 0 0 0\n",
            "  0 0 0 0 0 0 0 0 0 0 0 0 0 1 0 0 0 0 0 0 0 0 0 0 0 0 0 0 0 0 0 0 0 0 0 0\n",
            "  0 1]] \n",
            "Prediction = 2\n",
            "Home team is going to win\n"
          ],
          "name": "stdout"
        }
      ]
    },
    {
      "cell_type": "markdown",
      "metadata": {
        "id": "jk1GBXat6ijR",
        "colab_type": "text"
      },
      "source": [
        "Now let's try to serve the model as an api so people can call it and get predictions for their games they want to know about.\n",
        "\n",
        "We will use tensorflow serving to create our api\n",
        "\n",
        "First we save our model\n"
      ]
    },
    {
      "cell_type": "code",
      "metadata": {
        "id": "ciRgi7I66wzN",
        "colab_type": "code",
        "colab": {
          "base_uri": "https://localhost:8080/",
          "height": 258
        },
        "outputId": "1c89448f-ddf0-4fc9-ae38-063dfc6a47c2"
      },
      "source": [
        "MODEL_DIR = tempfile.gettempdir()\n",
        "\n",
        "version = 1\n",
        "\n",
        "export_path = os.path.join(MODEL_DIR, str(version))\n",
        "\n",
        "if os.path.isdir(export_path):\n",
        "    print('\\nAlready saved a model, cleaning up\\n')\n",
        "    !rm -r {export_path}\n",
        "\n",
        "model.save(export_path, save_format=\"tf\")\n",
        "\n",
        "print('\\nexport_path = {}'.format(export_path))\n",
        "!ls -l {export_path}"
      ],
      "execution_count": 17,
      "outputs": [
        {
          "output_type": "stream",
          "text": [
            "\n",
            "Already saved a model, cleaning up\n",
            "\n",
            "WARNING:tensorflow:From /usr/local/lib/python3.6/dist-packages/tensorflow/python/ops/resource_variable_ops.py:1817: calling BaseResourceVariable.__init__ (from tensorflow.python.ops.resource_variable_ops) with constraint is deprecated and will be removed in a future version.\n",
            "Instructions for updating:\n",
            "If using Keras pass *_constraint arguments to layers.\n",
            "INFO:tensorflow:Assets written to: /tmp/1/assets\n",
            "\n",
            "export_path = /tmp/1\n",
            "total 96\n",
            "drwxr-xr-x 2 root root  4096 Jun 29 06:59 assets\n",
            "-rw-r--r-- 1 root root 89355 Jun 29 06:59 saved_model.pb\n",
            "drwxr-xr-x 2 root root  4096 Jun 29 06:59 variables\n"
          ],
          "name": "stdout"
        }
      ]
    },
    {
      "cell_type": "code",
      "metadata": {
        "id": "PBGgKmtZ8g9P",
        "colab_type": "code",
        "colab": {
          "base_uri": "https://localhost:8080/",
          "height": 391
        },
        "outputId": "ba268ffa-48a3-4d2c-f528-4b0af4985649"
      },
      "source": [
        "!echo \"deb http://storage.googleapis.com/tensorflow-serving-apt stable tensorflow-model-server tensorflow-model-server-universal\" | tee /etc/apt/sources.list.d/tensorflow-serving.list && \\\n",
        "curl https://storage.googleapis.com/tensorflow-serving-apt/tensorflow-serving.release.pub.gpg | apt-key add -\n",
        "!apt update"
      ],
      "execution_count": 18,
      "outputs": [
        {
          "output_type": "stream",
          "text": [
            "deb http://storage.googleapis.com/tensorflow-serving-apt stable tensorflow-model-server tensorflow-model-server-universal\n",
            "  % Total    % Received % Xferd  Average Speed   Time    Time     Time  Current\n",
            "                                 Dload  Upload   Total   Spent    Left  Speed\n",
            "\r  0     0    0     0    0     0      0      0 --:--:-- --:--:-- --:--:--     0\r100  2943  100  2943    0     0  25370      0 --:--:-- --:--:-- --:--:-- 25370\n",
            "OK\n",
            "Hit:1 https://cloud.r-project.org/bin/linux/ubuntu bionic-cran35/ InRelease\n",
            "Hit:2 http://storage.googleapis.com/tensorflow-serving-apt stable InRelease\n",
            "Ign:3 https://developer.download.nvidia.com/compute/cuda/repos/ubuntu1804/x86_64  InRelease\n",
            "Ign:4 https://developer.download.nvidia.com/compute/machine-learning/repos/ubuntu1804/x86_64  InRelease\n",
            "Hit:5 https://developer.download.nvidia.com/compute/cuda/repos/ubuntu1804/x86_64  Release\n",
            "Hit:6 https://developer.download.nvidia.com/compute/machine-learning/repos/ubuntu1804/x86_64  Release\n",
            "Hit:7 http://archive.ubuntu.com/ubuntu bionic InRelease\n",
            "Get:8 http://security.ubuntu.com/ubuntu bionic-security InRelease [88.7 kB]\n",
            "Hit:9 http://ppa.launchpad.net/graphics-drivers/ppa/ubuntu bionic InRelease\n",
            "Get:10 http://archive.ubuntu.com/ubuntu bionic-updates InRelease [88.7 kB]\n",
            "Hit:11 http://ppa.launchpad.net/marutter/c2d4u3.5/ubuntu bionic InRelease\n",
            "Get:14 http://archive.ubuntu.com/ubuntu bionic-backports InRelease [74.6 kB]\n",
            "Fetched 252 kB in 2s (130 kB/s)\n",
            "Reading package lists... Done\n",
            "Building dependency tree       \n",
            "Reading state information... Done\n",
            "68 packages can be upgraded. Run 'apt list --upgradable' to see them.\n"
          ],
          "name": "stdout"
        }
      ]
    },
    {
      "cell_type": "markdown",
      "metadata": {
        "id": "qfL7lR17n2ip",
        "colab_type": "text"
      },
      "source": [
        "Now we install tensorflow model server"
      ]
    },
    {
      "cell_type": "code",
      "metadata": {
        "id": "AyBOIwH5nwJN",
        "colab_type": "code",
        "colab": {
          "base_uri": "https://localhost:8080/",
          "height": 153
        },
        "outputId": "277ab53b-a785-43bf-8f90-6f16d2595323"
      },
      "source": [
        "!apt-get install tensorflow-model-server"
      ],
      "execution_count": 19,
      "outputs": [
        {
          "output_type": "stream",
          "text": [
            "Reading package lists... Done\n",
            "Building dependency tree       \n",
            "Reading state information... Done\n",
            "tensorflow-model-server is already the newest version (2.2.0).\n",
            "The following package was automatically installed and is no longer required:\n",
            "  libnvidia-common-440\n",
            "Use 'apt autoremove' to remove it.\n",
            "0 upgraded, 0 newly installed, 0 to remove and 68 not upgraded.\n"
          ],
          "name": "stdout"
        }
      ]
    },
    {
      "cell_type": "markdown",
      "metadata": {
        "id": "Wj7TkomFoHcC",
        "colab_type": "text"
      },
      "source": [
        "Now we can run our api server. "
      ]
    },
    {
      "cell_type": "code",
      "metadata": {
        "id": "mkQau_Gwn6tf",
        "colab_type": "code",
        "colab": {}
      },
      "source": [
        "os.environ[\"MODEL_DIR\"] = MODEL_DIR"
      ],
      "execution_count": 20,
      "outputs": []
    },
    {
      "cell_type": "code",
      "metadata": {
        "id": "zjb6W89moVwz",
        "colab_type": "code",
        "colab": {
          "base_uri": "https://localhost:8080/",
          "height": 34
        },
        "outputId": "7ebaa31f-a35e-4b1e-a33d-81557ac4f075"
      },
      "source": [
        "%%bash --bg \n",
        "nohup tensorflow_model_server \\\n",
        "  --rest_api_port=8501 \\\n",
        "  --model_name=epl_predictions \\\n",
        "  --model_base_path=\"${MODEL_DIR}\" >server.log 2>&1"
      ],
      "execution_count": 21,
      "outputs": [
        {
          "output_type": "stream",
          "text": [
            "Starting job # 0 in a separate thread.\n"
          ],
          "name": "stdout"
        }
      ]
    },
    {
      "cell_type": "markdown",
      "metadata": {
        "id": "4BrzzNSKok1o",
        "colab_type": "text"
      },
      "source": [
        "Now we can create the a json object to send a request to the api"
      ]
    },
    {
      "cell_type": "code",
      "metadata": {
        "id": "zqM0N4wuodsT",
        "colab_type": "code",
        "colab": {
          "base_uri": "https://localhost:8080/",
          "height": 85
        },
        "outputId": "a85ad258-eba7-4d65-da44-396d4a637387"
      },
      "source": [
        "entry = np.array([[0, 0, 0, 0, 0, 0, 0, 0, 0, 0, 0, 0, 0, 0, 1, 0, 0, 0, 0, 0, 0, 0, 0, 0, 0, 0, 0, 0, 0, 0, 0, 0, 0, 0, 0, 0, 0, 0, 0, 0, 0, 0, 0, 0, 0, 0, 0, 0, 0, 0, 0, 0, 0, 0, 0, 0, 0, 0, 0, 0, 0, 0, 0, 0, 0, 0, 0, 0, 0, 0, 0, 0, 0, 0, 0, 0, 0, 0, 0, 0, 0, 0, 0, 0, 0, 1, 0, 0, 0, 0, 0, 0, 0, 0, 0, 0, 0, 0, 0, 0, 0, 0, 0, 0, 0, 0, 0, 0, 0, 1]])\n",
        "\n",
        "print(type(entry))\n",
        "print(entry.shape)\n",
        "\n",
        "the_list = entry.tolist()\n",
        "print(type(the_list))\n",
        "\n",
        "\n",
        "data = json.dumps({\"signature_name\": \"serving_default\", \"instances\": the_list})\n",
        "print('Data: {} ... {}'.format(data[:50], data[len(data)-52:]))"
      ],
      "execution_count": 22,
      "outputs": [
        {
          "output_type": "stream",
          "text": [
            "<class 'numpy.ndarray'>\n",
            "(1, 110)\n",
            "<class 'list'>\n",
            "Data: {\"signature_name\": \"serving_default\", \"instances\": ... 0, 0, 0, 0, 0, 0, 0, 0, 0, 0, 0, 0, 0, 0, 0, 0, 1]]}\n"
          ],
          "name": "stdout"
        }
      ]
    },
    {
      "cell_type": "markdown",
      "metadata": {
        "id": "cf45alJOpg7b",
        "colab_type": "text"
      },
      "source": [
        "Now that we have our object we can send it to the api and we can receive the prediction from our model"
      ]
    },
    {
      "cell_type": "code",
      "metadata": {
        "id": "stp3Xg04pfm3",
        "colab_type": "code",
        "colab": {
          "base_uri": "https://localhost:8080/",
          "height": 102
        },
        "outputId": "6f47cfc4-7109-43b7-a964-2564f2cc0c71"
      },
      "source": [
        "headers = {\"content-type\": \"application/json\"}\n",
        "json_response = requests.post('http://localhost:8501/v1/models/epl_predictions:predict', data=data, headers=headers)\n",
        "\n",
        "print(json_response)\n",
        "print(json_response.text)\n",
        "\n",
        "#predictions = json.loads(json_response.text)['predictions']"
      ],
      "execution_count": 23,
      "outputs": [
        {
          "output_type": "stream",
          "text": [
            "<Response [200]>\n",
            "{\n",
            "    \"predictions\": [[7.00302689e-06, 0.0823666081, 0.917626381]\n",
            "    ]\n",
            "}\n"
          ],
          "name": "stdout"
        }
      ]
    },
    {
      "cell_type": "markdown",
      "metadata": {
        "id": "ZNWZtvhJ1wH1",
        "colab_type": "text"
      },
      "source": [
        "And that's it! the API returns 3 predictions with the last one being the most probable. The last one is 2 so our model is predicting the home team is going to win!"
      ]
    },
    {
      "cell_type": "code",
      "metadata": {
        "id": "LbdIInKZpyPI",
        "colab_type": "code",
        "colab": {}
      },
      "source": [
        ""
      ],
      "execution_count": null,
      "outputs": []
    }
  ]
}